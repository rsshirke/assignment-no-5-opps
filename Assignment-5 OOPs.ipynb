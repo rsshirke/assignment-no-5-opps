{
 "cells": [
  {
   "cell_type": "markdown",
   "id": "6544dfe1",
   "metadata": {},
   "source": [
    "# Q1"
   ]
  },
  {
   "cell_type": "code",
   "execution_count": 7,
   "id": "5299d9e1",
   "metadata": {},
   "outputs": [
    {
     "name": "stdout",
     "output_type": "stream",
     "text": [
      "10\n",
      "2\n"
     ]
    },
    {
     "data": {
      "text/plain": [
       "100"
      ]
     },
     "execution_count": 7,
     "metadata": {},
     "output_type": "execute_result"
    }
   ],
   "source": [
    "'''\n",
    "Write a Python class to implement pow(x, n)\n",
    "Explanation:\n",
    "Use should be able to find the nth power of the x.(i.e x*x*x*x...n times)\n",
    "You must implement it using Class\n",
    "Sample Input:\n",
    "x: 10\n",
    "n: 2\n",
    "'''\n",
    "\n",
    "x = int(input())\n",
    "n = int(input())\n",
    "class power():\n",
    "    def __init__(self,x,n):\n",
    "        self.x=x\n",
    "        self.n=n\n",
    "    def power2(self):\n",
    "        return x**n\n",
    "p1=power(x,n)\n",
    "p1.power2()"
   ]
  },
  {
   "cell_type": "code",
   "execution_count": null,
   "id": "c42b4d6d",
   "metadata": {},
   "outputs": [],
   "source": []
  }
 ],
 "metadata": {
  "kernelspec": {
   "display_name": "Python 3",
   "language": "python",
   "name": "python3"
  },
  "language_info": {
   "codemirror_mode": {
    "name": "ipython",
    "version": 3
   },
   "file_extension": ".py",
   "mimetype": "text/x-python",
   "name": "python",
   "nbconvert_exporter": "python",
   "pygments_lexer": "ipython3",
   "version": "3.8.8"
  }
 },
 "nbformat": 4,
 "nbformat_minor": 5
}
